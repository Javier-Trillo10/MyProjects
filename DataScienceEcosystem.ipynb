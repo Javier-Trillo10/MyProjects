{
 "cells": [
  {
   "cell_type": "markdown",
   "id": "69da8b17-fd7c-4b9e-a6d8-1c104b389638",
   "metadata": {},
   "source": [
    "# Data Science Tools and Ecosystem"
   ]
  },
  {
   "cell_type": "markdown",
   "id": "9cfe3922-c6c4-4d27-90c2-3e0812f70844",
   "metadata": {},
   "source": [
    "**Objectives:**\n",
    "- Popular Languages\n",
    "- Commonly used libraries\n",
    "- Data Science Tools\n",
    "- Arithmetic expressions with Python"
   ]
  },
  {
   "cell_type": "markdown",
   "id": "b402d2d1-24f2-4673-94dd-f8b2cf7ae32e",
   "metadata": {},
   "source": [
    "## Author\n",
    "Javier Trillo Corral"
   ]
  },
  {
   "cell_type": "markdown",
   "id": "35fac085-aa79-4f5f-a9f3-6eaae65ed7ec",
   "metadata": {},
   "source": [
    "In this notebook, Data Science Tools and Ecosystem are summarized"
   ]
  },
  {
   "cell_type": "markdown",
   "id": "49557ba5-8a1b-4aa7-82d8-d47b727c437b",
   "metadata": {},
   "source": [
    "Some of the popular languages that Data Scientists use are:\n",
    "1. Python\n",
    "2. C#\n",
    "3. Java\n",
    "4. SQL"
   ]
  },
  {
   "cell_type": "markdown",
   "id": "f7f0e55f-4e5f-46f0-8429-49cddfd6f19e",
   "metadata": {},
   "source": [
    "Some of the commonly used libraries used by Data Scientists include:\n",
    "1. NumPy\n",
    "2. Pandas\n",
    "3. TensorFlow\n",
    "4. Matplotlib"
   ]
  },
  {
   "cell_type": "markdown",
   "id": "2b761eb6-f9a4-436f-8550-0cb7b9ef1878",
   "metadata": {},
   "source": [
    "| Data Science Tools |\n",
    "|:------------------:|\n",
    "|Apache Spark        |\n",
    "|Jupyter Lab         |\n",
    "|Julia               |\n",
    "|Keras               |"
   ]
  },
  {
   "cell_type": "markdown",
   "id": "d7a0c77b-888e-4f14-87bd-87228846b7a3",
   "metadata": {},
   "source": [
    "Below are a few examples of evaluating arithmetic expressions in Python."
   ]
  },
  {
   "cell_type": "code",
   "execution_count": 6,
   "id": "932e3586-599c-46d0-8397-3cc214a3286d",
   "metadata": {},
   "outputs": [
    {
     "data": {
      "text/plain": [
       "17"
      ]
     },
     "execution_count": 6,
     "metadata": {},
     "output_type": "execute_result"
    }
   ],
   "source": [
    "# This a simple arithmetic expression to multiply then add integer. \n",
    "(3*4)+5"
   ]
  },
  {
   "cell_type": "code",
   "execution_count": 8,
   "id": "8ef0580e-6d7f-4828-accc-46e7c822c9ae",
   "metadata": {},
   "outputs": [
    {
     "data": {
      "text/plain": [
       "3.3333333333333335"
      ]
     },
     "execution_count": 8,
     "metadata": {},
     "output_type": "execute_result"
    }
   ],
   "source": [
    "# This will convert 200 minutes to hours by dividing by 60.\n",
    "(200/60)"
   ]
  },
  {
   "cell_type": "markdown",
   "id": "44501cb6-0dab-4d66-b617-1f0467592cf0",
   "metadata": {},
   "source": []
  }
 ],
 "metadata": {
  "kernelspec": {
   "display_name": "Python 3 (ipykernel)",
   "language": "python",
   "name": "python3"
  },
  "language_info": {
   "codemirror_mode": {
    "name": "ipython",
    "version": 3
   },
   "file_extension": ".py",
   "mimetype": "text/x-python",
   "name": "python",
   "nbconvert_exporter": "python",
   "pygments_lexer": "ipython3",
   "version": "3.12.4"
  }
 },
 "nbformat": 4,
 "nbformat_minor": 5
}
